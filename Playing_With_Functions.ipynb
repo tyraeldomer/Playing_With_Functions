{
 "cells": [
  {
   "cell_type": "markdown",
   "metadata": {},
   "source": [
    "### Number 1\n",
    "#### Write a function that takes the circumference of a circle as a parameter and returns the area of that circle.\n",
    "\n",
    "#### Note: Assume the value of pi is 3.1416"
   ]
  },
  {
   "cell_type": "code",
   "execution_count": 1,
   "metadata": {},
   "outputs": [
    {
     "name": "stdout",
     "output_type": "stream",
     "text": [
      "Enter circumference: 5\n",
      "The area of the circle is 1.9894321364909602\n"
     ]
    }
   ],
   "source": [
    "# circumference of a circle = 2pi * radius\n",
    "# radius = circumference / 2pi\n",
    "# area of a circle = pi * (radius * radius) = pi * ((circumference / 2 pi) * (circumference / 2pi))\n",
    "\n",
    "def compute_area(circumference):\n",
    "    area = 3.1416 * ((circumference / (2 * 3.1416) * (circumference / (2 * 3.1416))))\n",
    "    return area\n",
    "\n",
    "circumference = float(input(\"Enter circumference: \"))\n",
    "area = compute_area(circumference)\n",
    "\n",
    "print(\"The area of the circle is\", area)"
   ]
  },
  {
   "cell_type": "markdown",
   "metadata": {},
   "source": [
    "### Number 2\n",
    "#### Write a function that takes a 5-character string as a parameter and returns the string in reverse order.\n",
    "\n",
    "##### e.g. reverseString(\"Hello\") -> \"olleH\""
   ]
  },
  {
   "cell_type": "code",
   "execution_count": 2,
   "metadata": {},
   "outputs": [
    {
     "name": "stdout",
     "output_type": "stream",
     "text": [
      "Enter 5-character string: Hello\n",
      "olleH\n"
     ]
    }
   ],
   "source": [
    "def reverseString(string):\n",
    "    reverse = string[::-1]\n",
    "    return reverse\n",
    "\n",
    "string = input(\"Enter 5-character string: \")\n",
    "reverse = reverseString(string)\n",
    "\n",
    "print(reverse)"
   ]
  },
  {
   "cell_type": "markdown",
   "metadata": {},
   "source": [
    "### Number 3\n",
    "#### Write a function that takes a positive integer as input and returns the sum of all positive integers smaller than and including the number itself.\n",
    "\n",
    "##### e.g. backAddition(5) -> 1 + 2 + 3 + 4 + 5 -> 15"
   ]
  },
  {
   "cell_type": "code",
   "execution_count": 16,
   "metadata": {},
   "outputs": [
    {
     "name": "stdout",
     "output_type": "stream",
     "text": [
      "Enter a positve integer: 5\n",
      "15\n"
     ]
    }
   ],
   "source": [
    "num = int(input(\"Enter a positve integer: \"))\n",
    "\n",
    "def backAdd(num):\n",
    "    summation = 0\n",
    "    for i in range(num, 0, -1):\n",
    "        summation = summation + i\n",
    "    return summation\n",
    "\n",
    "total = backAdd(num)\n",
    "print(total)"
   ]
  },
  {
   "cell_type": "markdown",
   "metadata": {},
   "source": [
    "### Number 4"
   ]
  },
  {
   "cell_type": "code",
   "execution_count": 1,
   "metadata": {
    "scrolled": true
   },
   "outputs": [
    {
     "name": "stdout",
     "output_type": "stream",
     "text": [
      "25164150\n"
     ]
    }
   ],
   "source": [
    "num1 = 1\n",
    "\n",
    "def sum_of_squares(num1):\n",
    "    sum1 = 0\n",
    "    for i in range(0,101):\n",
    "        sum1 = sum1 + (i * i)\n",
    "    return sum1\n",
    "\n",
    "sum_squares = sum_of_squares(num1)\n",
    "\n",
    "def square_of_sums(num1):\n",
    "    sum2 = 0\n",
    "    for x in range(0,101):\n",
    "        sum2 = sum2 + x\n",
    "        squared = sum2 ** 2\n",
    "    return squared\n",
    "\n",
    "squares_sum = square_of_sums(num1)\n",
    "difference = squares_sum - sum_squares\n",
    "print(difference)"
   ]
  },
  {
   "cell_type": "markdown",
   "metadata": {},
   "source": [
    "### Number 5"
   ]
  },
  {
   "cell_type": "code",
   "execution_count": 30,
   "metadata": {},
   "outputs": [
    {
     "name": "stdout",
     "output_type": "stream",
     "text": [
      "Enter cents amount: 69\n",
      "0\n",
      "2\n",
      "1\n",
      "1\n",
      "4\n"
     ]
    }
   ],
   "source": [
    "cents = int(input(\"Enter cents amount: \"))\n",
    "\n",
    "one_peso = 0\n",
    "twentyfive_cents = 0\n",
    "ten_cents = 0\n",
    "five_cents = 0\n",
    "one_cents = 0\n",
    "\n",
    "def denomination(cents):\n",
    "    one_peso = cents // 100\n",
    "    remainder1 = cents % 100\n",
    "\n",
    "    twentyfive_cents = remainder1 // 25\n",
    "    remainder2 = remainder1 % 25\n",
    "\n",
    "    ten_cents = remainder2 // 10\n",
    "    remainder3 = remainder2 % 10\n",
    "\n",
    "    five_cents = remainder3 // 5\n",
    "    remainder4 = remainder3 % 5\n",
    "\n",
    "    one_cents = remainder4 // 1\n",
    "    \n",
    "    return print(one_peso, twentyfive_cents, ten_cents, five_cents, one_cents, sep = \"\\n\")\n",
    "\n",
    "change = denomination(cents)"
   ]
  },
  {
   "cell_type": "code",
   "execution_count": null,
   "metadata": {},
   "outputs": [],
   "source": []
  }
 ],
 "metadata": {
  "kernelspec": {
   "display_name": "Python 3",
   "language": "python",
   "name": "python3"
  },
  "language_info": {
   "codemirror_mode": {
    "name": "ipython",
    "version": 3
   },
   "file_extension": ".py",
   "mimetype": "text/x-python",
   "name": "python",
   "nbconvert_exporter": "python",
   "pygments_lexer": "ipython3",
   "version": "3.7.6"
  }
 },
 "nbformat": 4,
 "nbformat_minor": 4
}
